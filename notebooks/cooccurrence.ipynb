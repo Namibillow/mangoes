{
 "cells": [
  {
   "cell_type": "markdown",
   "metadata": {
    "collapsed": true
   },
   "source": [
    "# Mangoes : Cooccurrence\n",
    "\n",
    "This notebook illustrates how to create a cooccurrence matrix from a corpus. The examples are applied on some extracts of wikipedia (en and fr). "
   ]
  },
  {
   "cell_type": "markdown",
   "metadata": {},
   "source": [
    "First, we have to import the module counting."
   ]
  },
  {
   "cell_type": "code",
   "execution_count": 1,
   "metadata": {},
   "outputs": [],
   "source": [
    "from IPython.display import display\n",
    "import mangoes.counting\n",
    "import nltk"
   ]
  },
  {
   "cell_type": "markdown",
   "metadata": {},
   "source": [
    "## Content of this notebook\n",
    "\n",
    "1. [Create a corpus](#1.-Create-a-Corpus)\n",
    "2. [Choose the vocabulary](#2.-Choose-the-vocabulary)\n",
    "3. [Compute the co-occurrence count matrix](#3.-Compute-the-co-occurrence-matrix)\n",
    "4. [Define your context](#4.-Define-your-context)\n",
    "5. [Annotated text](#5.-Annotated-text)\n",
    "\n"
   ]
  },
  {
   "cell_type": "markdown",
   "metadata": {},
   "source": [
    "## 1. Create a Corpus\n",
    "The `Corpus` class generate sentences from your documents."
   ]
  },
  {
   "cell_type": "code",
   "execution_count": 2,
   "metadata": {},
   "outputs": [
    {
     "data": {
      "application/vnd.jupyter.widget-view+json": {
       "model_id": "100f43ef2c3f45228e6fc505330ebcef",
       "version_major": 2,
       "version_minor": 0
      },
      "text/plain": [
       "Counting words: 0it [00:00, ?it/s]"
      ]
     },
     "metadata": {},
     "output_type": "display_data"
    },
    {
     "name": "stdout",
     "output_type": "stream",
     "text": [
      "382 sentences, 10969 words\n"
     ]
    }
   ],
   "source": [
    "corpus = mangoes.Corpus(\"data/wiki_article_en\", lower= True)\n",
    "print(\"{} sentences, {} words\".format(corpus.nb_sentences, corpus.size))"
   ]
  },
  {
   "cell_type": "markdown",
   "metadata": {},
   "source": [
    "The source can be a file, a folder or an iterable. The data can be raw text, or annotated text in brown, xml or conll format (see the section about annotated formats below)"
   ]
  },
  {
   "cell_type": "markdown",
   "metadata": {},
   "source": [
    "## 2. Choose the vocabulary"
   ]
  },
  {
   "cell_type": "markdown",
   "metadata": {},
   "source": [
    "The `Vocabulary` class manage list of words (e.g. the words you're going to represent as vectors). It encapsulates a mapping between words and their ids.  \n",
    "To create your `Vocabulary` objects, you can provide your own list of words (in a list, a dictionary or another Vocabulary) or select a vocabulary from your corpus using filters. \n",
    "\n",
    "Available filters are :  \n",
    "* truncate, with parameter max_nb : to keep the `max_nb` most common words\n",
    "* remove_most_frequent, with parameter max_frequency : keep the words that appear at most `max_frequency` times \n",
    "* remove_least_frequent, with parameter min_frequency : keep the words that appear at least `min_frequency` times \n",
    "* remove_stop_words, with parameter stopwords : keep the words that don't appear in stopwords"
   ]
  },
  {
   "cell_type": "code",
   "execution_count": 3,
   "metadata": {},
   "outputs": [
    {
     "name": "stdout",
     "output_type": "stream",
     "text": [
      "My words : anarchist, communism, societies, state\n",
      "Most frequent words : advocates, voluntary, basis, particular, instead, considered, syndicalism, next, himself, used\n"
     ]
    }
   ],
   "source": [
    "# Examples :\n",
    "\n",
    "# Provide your own list of words to create a Vocabulary:\n",
    "my_words = mangoes.Vocabulary([\"anarchist\", \"communism\", \"societies\", \"state\"])\n",
    "print(\"My words : {}\".format(\", \".join(my_words)))\n",
    "\n",
    "# or extract the most frequent of a corpus\n",
    "frequent_words = corpus.create_vocabulary(filters = [mangoes.corpus.remove_most_frequent(5),mangoes.corpus.truncate(10)])\n",
    "print(\"Most frequent words : {}\".format(\", \".join(frequent_words.words)))"
   ]
  },
  {
   "cell_type": "markdown",
   "metadata": {},
   "source": [
    "To remove stopwords from your vocabulary when creating from corpus, you have to define your own list of stopwords.  \n",
    "For example, using nltk :"
   ]
  },
  {
   "cell_type": "code",
   "execution_count": 4,
   "metadata": {},
   "outputs": [
    {
     "data": {
      "text/plain": [
       "179"
      ]
     },
     "execution_count": 4,
     "metadata": {},
     "output_type": "execute_result"
    }
   ],
   "source": [
    "len(nltk.corpus.stopwords.words(\"english\"))"
   ]
  },
  {
   "cell_type": "code",
   "execution_count": 5,
   "metadata": {},
   "outputs": [
    {
     "data": {
      "text/plain": [
       "['i',\n",
       " 'me',\n",
       " 'my',\n",
       " 'myself',\n",
       " 'we',\n",
       " 'our',\n",
       " 'ours',\n",
       " 'ourselves',\n",
       " 'you',\n",
       " \"you're\",\n",
       " \"you've\",\n",
       " \"you'll\",\n",
       " \"you'd\",\n",
       " 'your',\n",
       " 'yours',\n",
       " 'yourself',\n",
       " 'yourselves',\n",
       " 'he',\n",
       " 'him',\n",
       " 'his',\n",
       " 'himself',\n",
       " 'she',\n",
       " \"she's\",\n",
       " 'her',\n",
       " 'hers',\n",
       " 'herself',\n",
       " 'it',\n",
       " \"it's\",\n",
       " 'its',\n",
       " 'itself',\n",
       " 'they',\n",
       " 'them',\n",
       " 'their',\n",
       " 'theirs',\n",
       " 'themselves',\n",
       " 'what',\n",
       " 'which',\n",
       " 'who',\n",
       " 'whom',\n",
       " 'this',\n",
       " 'that',\n",
       " \"that'll\",\n",
       " 'these',\n",
       " 'those',\n",
       " 'am',\n",
       " 'is',\n",
       " 'are',\n",
       " 'was',\n",
       " 'were',\n",
       " 'be',\n",
       " 'been',\n",
       " 'being',\n",
       " 'have',\n",
       " 'has',\n",
       " 'had',\n",
       " 'having',\n",
       " 'do',\n",
       " 'does',\n",
       " 'did',\n",
       " 'doing',\n",
       " 'a',\n",
       " 'an',\n",
       " 'the',\n",
       " 'and',\n",
       " 'but',\n",
       " 'if',\n",
       " 'or',\n",
       " 'because',\n",
       " 'as',\n",
       " 'until',\n",
       " 'while',\n",
       " 'of',\n",
       " 'at',\n",
       " 'by',\n",
       " 'for',\n",
       " 'with',\n",
       " 'about',\n",
       " 'against',\n",
       " 'between',\n",
       " 'into',\n",
       " 'through',\n",
       " 'during',\n",
       " 'before',\n",
       " 'after',\n",
       " 'above',\n",
       " 'below',\n",
       " 'to',\n",
       " 'from',\n",
       " 'up',\n",
       " 'down',\n",
       " 'in',\n",
       " 'out',\n",
       " 'on',\n",
       " 'off',\n",
       " 'over',\n",
       " 'under',\n",
       " 'again',\n",
       " 'further',\n",
       " 'then',\n",
       " 'once',\n",
       " 'here',\n",
       " 'there',\n",
       " 'when',\n",
       " 'where',\n",
       " 'why',\n",
       " 'how',\n",
       " 'all',\n",
       " 'any',\n",
       " 'both',\n",
       " 'each',\n",
       " 'few',\n",
       " 'more',\n",
       " 'most',\n",
       " 'other',\n",
       " 'some',\n",
       " 'such',\n",
       " 'no',\n",
       " 'nor',\n",
       " 'not',\n",
       " 'only',\n",
       " 'own',\n",
       " 'same',\n",
       " 'so',\n",
       " 'than',\n",
       " 'too',\n",
       " 'very',\n",
       " 's',\n",
       " 't',\n",
       " 'can',\n",
       " 'will',\n",
       " 'just',\n",
       " 'don',\n",
       " \"don't\",\n",
       " 'should',\n",
       " \"should've\",\n",
       " 'now',\n",
       " 'd',\n",
       " 'll',\n",
       " 'm',\n",
       " 'o',\n",
       " 're',\n",
       " 've',\n",
       " 'y',\n",
       " 'ain',\n",
       " 'aren',\n",
       " \"aren't\",\n",
       " 'couldn',\n",
       " \"couldn't\",\n",
       " 'didn',\n",
       " \"didn't\",\n",
       " 'doesn',\n",
       " \"doesn't\",\n",
       " 'hadn',\n",
       " \"hadn't\",\n",
       " 'hasn',\n",
       " \"hasn't\",\n",
       " 'haven',\n",
       " \"haven't\",\n",
       " 'isn',\n",
       " \"isn't\",\n",
       " 'ma',\n",
       " 'mightn',\n",
       " \"mightn't\",\n",
       " 'mustn',\n",
       " \"mustn't\",\n",
       " 'needn',\n",
       " \"needn't\",\n",
       " 'shan',\n",
       " \"shan't\",\n",
       " 'shouldn',\n",
       " \"shouldn't\",\n",
       " 'wasn',\n",
       " \"wasn't\",\n",
       " 'weren',\n",
       " \"weren't\",\n",
       " 'won',\n",
       " \"won't\",\n",
       " 'wouldn',\n",
       " \"wouldn't\"]"
      ]
     },
     "execution_count": 5,
     "metadata": {},
     "output_type": "execute_result"
    }
   ],
   "source": [
    "nltk.corpus.stopwords.words(\"english\")"
   ]
  },
  {
   "cell_type": "code",
   "execution_count": 6,
   "metadata": {},
   "outputs": [
    {
     "name": "stdout",
     "output_type": "stream",
     "text": [
      "[',', '.', '\"', 'anarchist', 'anarchism', 'anarchists', '-lrb-', '-rrb-', \"'s\", 'international']\n"
     ]
    }
   ],
   "source": [
    "import nltk.corpus\n",
    "stopwords_filter = mangoes.corpus.remove_elements(nltk.corpus.stopwords.words('english'))\n",
    "print(corpus.create_vocabulary(filters = [stopwords_filter, mangoes.corpus.truncate(10)]).words)"
   ]
  },
  {
   "cell_type": "markdown",
   "metadata": {},
   "source": [
    "With the same filter `remove_elements`, you can also remove punctuation signs from your vocabulary, using e.g. `string.punctuation`"
   ]
  },
  {
   "cell_type": "code",
   "execution_count": 7,
   "metadata": {},
   "outputs": [
    {
     "name": "stdout",
     "output_type": "stream",
     "text": [
      "['the', 'of', 'and', 'in', 'a', 'to', 'anarchist', 'as', 'was', 'anarchism']\n"
     ]
    }
   ],
   "source": [
    "import string\n",
    "punctuation_filter = mangoes.corpus.remove_elements(string.punctuation)\n",
    "print(corpus.create_vocabulary(filters = [punctuation_filter, mangoes.corpus.truncate(10)]).words)"
   ]
  },
  {
   "cell_type": "markdown",
   "metadata": {},
   "source": [
    "And combine all these filters :"
   ]
  },
  {
   "cell_type": "code",
   "execution_count": 8,
   "metadata": {},
   "outputs": [
    {
     "name": "stdout",
     "output_type": "stream",
     "text": [
      "['anarchist', 'anarchism', 'anarchists', 'international', 'movement', 'first', 'free', 'workers', 'state', 'federation']\n"
     ]
    }
   ],
   "source": [
    "frequent_words = corpus.create_vocabulary(filters = [punctuation_filter, \n",
    "                                                     stopwords_filter,\n",
    "                                                     mangoes.corpus.remove_elements([\"''\", '``', '-rrb-', '-lrb-', \"'s\"]),\n",
    "                                                     mangoes.corpus.truncate(10)])\n",
    "print(frequent_words.words)"
   ]
  },
  {
   "cell_type": "markdown",
   "metadata": {
    "collapsed": true
   },
   "source": [
    "## 3. Compute the co-occurrence matrix"
   ]
  },
  {
   "cell_type": "markdown",
   "metadata": {},
   "source": [
    "To count the word-word co-occurrences, use the `mangoes.counting.count_cooccurrence()` function :"
   ]
  },
  {
   "cell_type": "code",
   "execution_count": 9,
   "metadata": {
    "scrolled": true
   },
   "outputs": [
    {
     "data": {
      "text/html": [
       "<div>\n",
       "<style scoped>\n",
       "    .dataframe tbody tr th:only-of-type {\n",
       "        vertical-align: middle;\n",
       "    }\n",
       "\n",
       "    .dataframe tbody tr th {\n",
       "        vertical-align: top;\n",
       "    }\n",
       "\n",
       "    .dataframe thead th {\n",
       "        text-align: right;\n",
       "    }\n",
       "</style>\n",
       "<table border=\"1\" class=\"dataframe\">\n",
       "  <thead>\n",
       "    <tr style=\"text-align: right;\">\n",
       "      <th></th>\n",
       "      <th>collectivist</th>\n",
       "      <th>associates</th>\n",
       "      <th>by</th>\n",
       "      <th>ideas</th>\n",
       "      <th>international</th>\n",
       "      <th>congress</th>\n",
       "      <th>the</th>\n",
       "      <th>movement</th>\n",
       "      <th>;</th>\n",
       "      <th>trade</th>\n",
       "      <th>...</th>\n",
       "      <th>post-classical</th>\n",
       "      <th>when</th>\n",
       "      <th>heterosexual</th>\n",
       "      <th>robert</th>\n",
       "      <th>women</th>\n",
       "      <th>william</th>\n",
       "      <th>criticises</th>\n",
       "      <th>sponsored</th>\n",
       "      <th>publication</th>\n",
       "      <th>leo</th>\n",
       "    </tr>\n",
       "  </thead>\n",
       "  <tbody>\n",
       "    <tr>\n",
       "      <th>anarchist</th>\n",
       "      <td>1</td>\n",
       "      <td>1</td>\n",
       "      <td>3</td>\n",
       "      <td>3</td>\n",
       "      <td>4</td>\n",
       "      <td>2</td>\n",
       "      <td>27</td>\n",
       "      <td>13</td>\n",
       "      <td>1</td>\n",
       "      <td>1</td>\n",
       "      <td>...</td>\n",
       "      <td>1</td>\n",
       "      <td>0</td>\n",
       "      <td>1</td>\n",
       "      <td>1</td>\n",
       "      <td>1</td>\n",
       "      <td>1</td>\n",
       "      <td>0</td>\n",
       "      <td>0</td>\n",
       "      <td>1</td>\n",
       "      <td>1</td>\n",
       "    </tr>\n",
       "    <tr>\n",
       "      <th>communism</th>\n",
       "      <td>0</td>\n",
       "      <td>0</td>\n",
       "      <td>0</td>\n",
       "      <td>0</td>\n",
       "      <td>0</td>\n",
       "      <td>0</td>\n",
       "      <td>0</td>\n",
       "      <td>0</td>\n",
       "      <td>0</td>\n",
       "      <td>0</td>\n",
       "      <td>...</td>\n",
       "      <td>0</td>\n",
       "      <td>0</td>\n",
       "      <td>0</td>\n",
       "      <td>0</td>\n",
       "      <td>0</td>\n",
       "      <td>0</td>\n",
       "      <td>0</td>\n",
       "      <td>0</td>\n",
       "      <td>0</td>\n",
       "      <td>0</td>\n",
       "    </tr>\n",
       "    <tr>\n",
       "      <th>societies</th>\n",
       "      <td>0</td>\n",
       "      <td>0</td>\n",
       "      <td>0</td>\n",
       "      <td>0</td>\n",
       "      <td>0</td>\n",
       "      <td>0</td>\n",
       "      <td>0</td>\n",
       "      <td>0</td>\n",
       "      <td>0</td>\n",
       "      <td>0</td>\n",
       "      <td>...</td>\n",
       "      <td>0</td>\n",
       "      <td>0</td>\n",
       "      <td>0</td>\n",
       "      <td>0</td>\n",
       "      <td>0</td>\n",
       "      <td>0</td>\n",
       "      <td>0</td>\n",
       "      <td>0</td>\n",
       "      <td>0</td>\n",
       "      <td>0</td>\n",
       "    </tr>\n",
       "    <tr>\n",
       "      <th>state</th>\n",
       "      <td>0</td>\n",
       "      <td>0</td>\n",
       "      <td>0</td>\n",
       "      <td>0</td>\n",
       "      <td>0</td>\n",
       "      <td>0</td>\n",
       "      <td>16</td>\n",
       "      <td>0</td>\n",
       "      <td>0</td>\n",
       "      <td>0</td>\n",
       "      <td>...</td>\n",
       "      <td>0</td>\n",
       "      <td>1</td>\n",
       "      <td>0</td>\n",
       "      <td>0</td>\n",
       "      <td>0</td>\n",
       "      <td>0</td>\n",
       "      <td>1</td>\n",
       "      <td>1</td>\n",
       "      <td>0</td>\n",
       "      <td>0</td>\n",
       "    </tr>\n",
       "  </tbody>\n",
       "</table>\n",
       "<p>4 rows × 146 columns</p>\n",
       "</div>"
      ],
      "text/plain": [
       "           collectivist  associates  by  ideas  international  congress  the  \\\n",
       "anarchist             1           1   3      3              4         2   27   \n",
       "communism             0           0   0      0              0         0    0   \n",
       "societies             0           0   0      0              0         0    0   \n",
       "state                 0           0   0      0              0         0   16   \n",
       "\n",
       "           movement  ;  trade  ...  post-classical  when  heterosexual  \\\n",
       "anarchist        13  1      1  ...               1     0             1   \n",
       "communism         0  0      0  ...               0     0             0   \n",
       "societies         0  0      0  ...               0     0             0   \n",
       "state             0  0      0  ...               0     1             0   \n",
       "\n",
       "           robert  women  william  criticises  sponsored  publication  leo  \n",
       "anarchist       1      1        1           0          0            1    1  \n",
       "communism       0      0        0           0          0            0    0  \n",
       "societies       0      0        0           0          0            0    0  \n",
       "state           0      0        0           1          1            0    0  \n",
       "\n",
       "[4 rows x 146 columns]"
      ]
     },
     "metadata": {},
     "output_type": "display_data"
    }
   ],
   "source": [
    "coocc_count_1 = mangoes.counting.count_cooccurrence(corpus, my_words)\n",
    "coocc_count_1.pprint(display=display)"
   ]
  },
  {
   "cell_type": "code",
   "execution_count": 10,
   "metadata": {},
   "outputs": [
    {
     "data": {
      "text/plain": [
       "<4x146 sparse matrix of type '<class 'numpy.int32'>'\n",
       "\twith 162 stored elements in Compressed Sparse Row format>"
      ]
     },
     "execution_count": 10,
     "metadata": {},
     "output_type": "execute_result"
    }
   ],
   "source": [
    "coocc_count_1.matrix"
   ]
  },
  {
   "cell_type": "markdown",
   "metadata": {},
   "source": [
    "By default, the co-occurrences are counted within a window of one word around each word of the given vocabulary.  \n",
    "\n",
    "You can give a vocabulary to use as context to limit the column of the matrix :\n"
   ]
  },
  {
   "cell_type": "code",
   "execution_count": 11,
   "metadata": {},
   "outputs": [
    {
     "data": {
      "text/html": [
       "<div>\n",
       "<style scoped>\n",
       "    .dataframe tbody tr th:only-of-type {\n",
       "        vertical-align: middle;\n",
       "    }\n",
       "\n",
       "    .dataframe tbody tr th {\n",
       "        vertical-align: top;\n",
       "    }\n",
       "\n",
       "    .dataframe thead th {\n",
       "        text-align: right;\n",
       "    }\n",
       "</style>\n",
       "<table border=\"1\" class=\"dataframe\">\n",
       "  <thead>\n",
       "    <tr style=\"text-align: right;\">\n",
       "      <th></th>\n",
       "      <th>anarchist</th>\n",
       "      <th>anarchism</th>\n",
       "      <th>anarchists</th>\n",
       "      <th>international</th>\n",
       "      <th>movement</th>\n",
       "      <th>first</th>\n",
       "      <th>free</th>\n",
       "      <th>workers</th>\n",
       "      <th>state</th>\n",
       "      <th>federation</th>\n",
       "    </tr>\n",
       "  </thead>\n",
       "  <tbody>\n",
       "    <tr>\n",
       "      <th>anarchist</th>\n",
       "      <td>0</td>\n",
       "      <td>0</td>\n",
       "      <td>0</td>\n",
       "      <td>4</td>\n",
       "      <td>13</td>\n",
       "      <td>4</td>\n",
       "      <td>0</td>\n",
       "      <td>0</td>\n",
       "      <td>0</td>\n",
       "      <td>8</td>\n",
       "    </tr>\n",
       "    <tr>\n",
       "      <th>communism</th>\n",
       "      <td>4</td>\n",
       "      <td>0</td>\n",
       "      <td>0</td>\n",
       "      <td>0</td>\n",
       "      <td>0</td>\n",
       "      <td>0</td>\n",
       "      <td>1</td>\n",
       "      <td>0</td>\n",
       "      <td>0</td>\n",
       "      <td>0</td>\n",
       "    </tr>\n",
       "    <tr>\n",
       "      <th>societies</th>\n",
       "      <td>0</td>\n",
       "      <td>0</td>\n",
       "      <td>0</td>\n",
       "      <td>0</td>\n",
       "      <td>0</td>\n",
       "      <td>0</td>\n",
       "      <td>0</td>\n",
       "      <td>0</td>\n",
       "      <td>0</td>\n",
       "      <td>0</td>\n",
       "    </tr>\n",
       "    <tr>\n",
       "      <th>state</th>\n",
       "      <td>0</td>\n",
       "      <td>0</td>\n",
       "      <td>0</td>\n",
       "      <td>0</td>\n",
       "      <td>0</td>\n",
       "      <td>0</td>\n",
       "      <td>0</td>\n",
       "      <td>0</td>\n",
       "      <td>0</td>\n",
       "      <td>0</td>\n",
       "    </tr>\n",
       "  </tbody>\n",
       "</table>\n",
       "</div>"
      ],
      "text/plain": [
       "           anarchist  anarchism  anarchists  international  movement  first  \\\n",
       "anarchist          0          0           0              4        13      4   \n",
       "communism          4          0           0              0         0      0   \n",
       "societies          0          0           0              0         0      0   \n",
       "state              0          0           0              0         0      0   \n",
       "\n",
       "           free  workers  state  federation  \n",
       "anarchist     0        0      0           8  \n",
       "communism     1        0      0           0  \n",
       "societies     0        0      0           0  \n",
       "state         0        0      0           0  "
      ]
     },
     "metadata": {},
     "output_type": "display_data"
    }
   ],
   "source": [
    "coocc_count_2 = mangoes.counting.count_cooccurrence(corpus, my_words, context=frequent_words)\n",
    "coocc_count_2.pprint(display=display)"
   ]
  },
  {
   "cell_type": "code",
   "execution_count": 12,
   "metadata": {},
   "outputs": [
    {
     "data": {
      "text/plain": [
       "(4, 10)"
      ]
     },
     "execution_count": 12,
     "metadata": {},
     "output_type": "execute_result"
    }
   ],
   "source": [
    "coocc_count_2.shape"
   ]
  },
  {
   "cell_type": "markdown",
   "metadata": {},
   "source": [
    "But you can also define other kinds of context :"
   ]
  },
  {
   "cell_type": "markdown",
   "metadata": {},
   "source": [
    "## 4. Define your context"
   ]
  },
  {
   "cell_type": "markdown",
   "metadata": {},
   "source": [
    "Mangoes provides the class Window to consider this kind of context.\n",
    "\n",
    "To create a context :"
   ]
  },
  {
   "cell_type": "code",
   "execution_count": 13,
   "metadata": {},
   "outputs": [],
   "source": [
    "simple_window = mangoes.context.Window(window_half_size=5, vocabulary=frequent_words)\n",
    "asymmetric_window = mangoes.context.Window(symmetric=False, window_half_size=(1,2), vocabulary=frequent_words)\n",
    "dynamic_window = mangoes.context.Window(window_half_size=5, dynamic=True, vocabulary=frequent_words)"
   ]
  },
  {
   "cell_type": "markdown",
   "metadata": {},
   "source": [
    "Using the contexts defined above :"
   ]
  },
  {
   "cell_type": "code",
   "execution_count": 14,
   "metadata": {},
   "outputs": [
    {
     "name": "stdout",
     "output_type": "stream",
     "text": [
      "context = symmetric window of size 2*5\n"
     ]
    },
    {
     "data": {
      "text/html": [
       "<div>\n",
       "<style scoped>\n",
       "    .dataframe tbody tr th:only-of-type {\n",
       "        vertical-align: middle;\n",
       "    }\n",
       "\n",
       "    .dataframe tbody tr th {\n",
       "        vertical-align: top;\n",
       "    }\n",
       "\n",
       "    .dataframe thead th {\n",
       "        text-align: right;\n",
       "    }\n",
       "</style>\n",
       "<table border=\"1\" class=\"dataframe\">\n",
       "  <thead>\n",
       "    <tr style=\"text-align: right;\">\n",
       "      <th></th>\n",
       "      <th>anarchist</th>\n",
       "      <th>anarchism</th>\n",
       "      <th>anarchists</th>\n",
       "      <th>international</th>\n",
       "      <th>movement</th>\n",
       "      <th>first</th>\n",
       "      <th>free</th>\n",
       "      <th>workers</th>\n",
       "      <th>state</th>\n",
       "      <th>federation</th>\n",
       "    </tr>\n",
       "  </thead>\n",
       "  <tbody>\n",
       "    <tr>\n",
       "      <th>anarchist</th>\n",
       "      <td>6</td>\n",
       "      <td>4</td>\n",
       "      <td>1</td>\n",
       "      <td>10</td>\n",
       "      <td>16</td>\n",
       "      <td>11</td>\n",
       "      <td>2</td>\n",
       "      <td>2</td>\n",
       "      <td>1</td>\n",
       "      <td>12</td>\n",
       "    </tr>\n",
       "    <tr>\n",
       "      <th>communism</th>\n",
       "      <td>4</td>\n",
       "      <td>1</td>\n",
       "      <td>0</td>\n",
       "      <td>0</td>\n",
       "      <td>0</td>\n",
       "      <td>0</td>\n",
       "      <td>3</td>\n",
       "      <td>0</td>\n",
       "      <td>0</td>\n",
       "      <td>0</td>\n",
       "    </tr>\n",
       "    <tr>\n",
       "      <th>societies</th>\n",
       "      <td>0</td>\n",
       "      <td>0</td>\n",
       "      <td>0</td>\n",
       "      <td>0</td>\n",
       "      <td>0</td>\n",
       "      <td>0</td>\n",
       "      <td>0</td>\n",
       "      <td>0</td>\n",
       "      <td>0</td>\n",
       "      <td>0</td>\n",
       "    </tr>\n",
       "    <tr>\n",
       "      <th>state</th>\n",
       "      <td>1</td>\n",
       "      <td>2</td>\n",
       "      <td>0</td>\n",
       "      <td>0</td>\n",
       "      <td>0</td>\n",
       "      <td>1</td>\n",
       "      <td>1</td>\n",
       "      <td>0</td>\n",
       "      <td>0</td>\n",
       "      <td>0</td>\n",
       "    </tr>\n",
       "  </tbody>\n",
       "</table>\n",
       "</div>"
      ],
      "text/plain": [
       "           anarchist  anarchism  anarchists  international  movement  first  \\\n",
       "anarchist          6          4           1             10        16     11   \n",
       "communism          4          1           0              0         0      0   \n",
       "societies          0          0           0              0         0      0   \n",
       "state              1          2           0              0         0      1   \n",
       "\n",
       "           free  workers  state  federation  \n",
       "anarchist     2        2      1          12  \n",
       "communism     3        0      0           0  \n",
       "societies     0        0      0           0  \n",
       "state         1        0      0           0  "
      ]
     },
     "metadata": {},
     "output_type": "display_data"
    }
   ],
   "source": [
    "print(\"context = symmetric window of size 2*5\")\n",
    "coocc_count_1 = mangoes.counting.count_cooccurrence(corpus,  \n",
    "                                                    my_words, \n",
    "                                                    context=simple_window)\n",
    "coocc_count_1.pprint(display=display)"
   ]
  },
  {
   "cell_type": "code",
   "execution_count": 15,
   "metadata": {
    "scrolled": true
   },
   "outputs": [
    {
     "name": "stdout",
     "output_type": "stream",
     "text": [
      "context = asymmetric window 1-x-2\n"
     ]
    },
    {
     "data": {
      "text/html": [
       "<div>\n",
       "<style scoped>\n",
       "    .dataframe tbody tr th:only-of-type {\n",
       "        vertical-align: middle;\n",
       "    }\n",
       "\n",
       "    .dataframe tbody tr th {\n",
       "        vertical-align: top;\n",
       "    }\n",
       "\n",
       "    .dataframe thead th {\n",
       "        text-align: right;\n",
       "    }\n",
       "</style>\n",
       "<table border=\"1\" class=\"dataframe\">\n",
       "  <thead>\n",
       "    <tr style=\"text-align: right;\">\n",
       "      <th></th>\n",
       "      <th>anarchist</th>\n",
       "      <th>anarchism</th>\n",
       "      <th>anarchists</th>\n",
       "      <th>international</th>\n",
       "      <th>movement</th>\n",
       "      <th>first</th>\n",
       "      <th>free</th>\n",
       "      <th>workers</th>\n",
       "      <th>state</th>\n",
       "      <th>federation</th>\n",
       "    </tr>\n",
       "  </thead>\n",
       "  <tbody>\n",
       "    <tr>\n",
       "      <th>anarchist</th>\n",
       "      <td>0</td>\n",
       "      <td>0</td>\n",
       "      <td>0</td>\n",
       "      <td>4</td>\n",
       "      <td>13</td>\n",
       "      <td>5</td>\n",
       "      <td>0</td>\n",
       "      <td>0</td>\n",
       "      <td>0</td>\n",
       "      <td>9</td>\n",
       "    </tr>\n",
       "    <tr>\n",
       "      <th>communism</th>\n",
       "      <td>4</td>\n",
       "      <td>0</td>\n",
       "      <td>0</td>\n",
       "      <td>0</td>\n",
       "      <td>0</td>\n",
       "      <td>0</td>\n",
       "      <td>1</td>\n",
       "      <td>0</td>\n",
       "      <td>0</td>\n",
       "      <td>0</td>\n",
       "    </tr>\n",
       "    <tr>\n",
       "      <th>societies</th>\n",
       "      <td>0</td>\n",
       "      <td>0</td>\n",
       "      <td>0</td>\n",
       "      <td>0</td>\n",
       "      <td>0</td>\n",
       "      <td>0</td>\n",
       "      <td>0</td>\n",
       "      <td>0</td>\n",
       "      <td>0</td>\n",
       "      <td>0</td>\n",
       "    </tr>\n",
       "    <tr>\n",
       "      <th>state</th>\n",
       "      <td>0</td>\n",
       "      <td>0</td>\n",
       "      <td>0</td>\n",
       "      <td>0</td>\n",
       "      <td>0</td>\n",
       "      <td>0</td>\n",
       "      <td>0</td>\n",
       "      <td>0</td>\n",
       "      <td>0</td>\n",
       "      <td>0</td>\n",
       "    </tr>\n",
       "  </tbody>\n",
       "</table>\n",
       "</div>"
      ],
      "text/plain": [
       "           anarchist  anarchism  anarchists  international  movement  first  \\\n",
       "anarchist          0          0           0              4        13      5   \n",
       "communism          4          0           0              0         0      0   \n",
       "societies          0          0           0              0         0      0   \n",
       "state              0          0           0              0         0      0   \n",
       "\n",
       "           free  workers  state  federation  \n",
       "anarchist     0        0      0           9  \n",
       "communism     1        0      0           0  \n",
       "societies     0        0      0           0  \n",
       "state         0        0      0           0  "
      ]
     },
     "metadata": {},
     "output_type": "display_data"
    }
   ],
   "source": [
    "print(\"context = asymmetric window 1-x-2\")\n",
    "coocc_count_2 = mangoes.counting.count_cooccurrence(corpus, \n",
    "                                                    my_words, \n",
    "                                                    context=asymmetric_window)\n",
    "coocc_count_2.pprint(display=display)"
   ]
  },
  {
   "cell_type": "markdown",
   "metadata": {
    "collapsed": true
   },
   "source": [
    "## 5. Annotated text"
   ]
  },
  {
   "cell_type": "markdown",
   "metadata": {},
   "source": [
    "If your corpus is annotated, you can count other entities than words. You have to define the format of your corpus by choosing the appropriate reader in the mangoes.corpus module. You can also write your own reader."
   ]
  },
  {
   "cell_type": "code",
   "execution_count": 16,
   "metadata": {},
   "outputs": [
    {
     "data": {
      "application/vnd.jupyter.widget-view+json": {
       "model_id": "d605e6ba5bed476090f7b902f1ce1122",
       "version_major": 2,
       "version_minor": 0
      },
      "text/plain": [
       "Counting words: 0it [00:00, ?it/s]"
      ]
     },
     "metadata": {},
     "output_type": "display_data"
    },
    {
     "name": "stdout",
     "output_type": "stream",
     "text": [
      "19 sentences, 514 words\n"
     ]
    }
   ],
   "source": [
    "annotated_corpus = mangoes.Corpus(\"data/wiki_article_fr.lemmatized\", reader=mangoes.corpus.BROWN)\n",
    "print(\"{} sentences, {} words\".format(annotated_corpus.nb_sentences, annotated_corpus.size))"
   ]
  },
  {
   "cell_type": "code",
   "execution_count": 17,
   "metadata": {},
   "outputs": [
    {
     "name": "stdout",
     "output_type": "stream",
     "text": [
      "[Token(form='Antoine', lemma='Antoine', POS='NPP'), Token(form='Meillet', lemma='*Meillet', POS='NPP'), Token(form='Paul', lemma='Paul', POS='NPP'), Token(form='Jules', lemma='Jules', POS='NPP'), Token(form=',', lemma=',', POS='PONCT'), Token(form='né', lemma='naître', POS='VPP'), Token(form='le', lemma='le', POS='DET'), Token(form='à', lemma='à', POS='P'), Token(form='Moulins', lemma='Moulins', POS='NPP'), Token(form='(', lemma='(', POS='PONCT')]\n"
     ]
    }
   ],
   "source": [
    "print(list(annotated_corpus.words_count)[:10])"
   ]
  },
  {
   "cell_type": "markdown",
   "metadata": {},
   "source": [
    "From this corpus, you can create vocabularies of different entities, combinations of available attributes :"
   ]
  },
  {
   "cell_type": "code",
   "execution_count": 18,
   "metadata": {},
   "outputs": [
    {
     "name": "stdout",
     "output_type": "stream",
     "text": [
      "Lemma vocabulary :\n",
      "['ilimp', '*Meillet', 'être', '*des', 'avoir', 'Parry', 'linguiste', '*du', 'étude', '*au', 'Antoine', 'premier', 'cours', 'celui', 'thèse', 'tradition', 'Moulins', '*Châteaumeillant', 'Cher', 'français']\n",
      "\n",
      "POS+Lemma vocabulary :\n",
      "[Token(lemma='le', POS='DET'), Token(lemma='de', POS='P'), Token(lemma='à', POS='P'), Token(lemma='ilimp', POS='CLS'), Token(lemma='son', POS='DET'), Token(lemma='un', POS='DET'), Token(lemma='*Meillet', POS='NPP'), Token(lemma='et', POS='CC'), Token(lemma='*des', POS='P+D'), Token(lemma='en', POS='P')]\n"
     ]
    }
   ],
   "source": [
    "# creating a vocabulary of lemmas :\n",
    "lemma_vocabulary = annotated_corpus.create_vocabulary(attributes=\"lemma\", \n",
    "                                                      filters=[mangoes.corpus.remove_elements(nltk.corpus.stopwords.words('french')), \n",
    "                                                               punctuation_filter, \n",
    "                                                               mangoes.corpus.truncate(20)])\n",
    "print(\"Lemma vocabulary :\")\n",
    "print(lemma_vocabulary.words)\n",
    "\n",
    "# creating a vocabulary of pos + lemmas :\n",
    "pos_lemma_vocabulary = annotated_corpus.create_vocabulary(attributes=(\"lemma\", \"POS\"), \n",
    "                                                          filters=[mangoes.corpus.remove_elements(string.punctuation, attribute=\"lemma\"), \n",
    "                                                                   mangoes.corpus.truncate(10)])\n",
    "print(\"\\nPOS+Lemma vocabulary :\")\n",
    "print(pos_lemma_vocabulary.words)"
   ]
  },
  {
   "cell_type": "markdown",
   "metadata": {},
   "source": [
    "Then, we can count cooccurences between these entities."
   ]
  },
  {
   "cell_type": "code",
   "execution_count": 19,
   "metadata": {},
   "outputs": [
    {
     "data": {
      "text/html": [
       "<div>\n",
       "<style scoped>\n",
       "    .dataframe tbody tr th:only-of-type {\n",
       "        vertical-align: middle;\n",
       "    }\n",
       "\n",
       "    .dataframe tbody tr th {\n",
       "        vertical-align: top;\n",
       "    }\n",
       "\n",
       "    .dataframe thead tr th {\n",
       "        text-align: left;\n",
       "    }\n",
       "</style>\n",
       "<table border=\"1\" class=\"dataframe\">\n",
       "  <thead>\n",
       "    <tr>\n",
       "      <th></th>\n",
       "      <th>le</th>\n",
       "      <th>de</th>\n",
       "      <th>à</th>\n",
       "      <th>ilimp</th>\n",
       "      <th>son</th>\n",
       "      <th>un</th>\n",
       "      <th>*Meillet</th>\n",
       "      <th>et</th>\n",
       "      <th>*des</th>\n",
       "      <th>en</th>\n",
       "    </tr>\n",
       "    <tr>\n",
       "      <th></th>\n",
       "      <th>DET</th>\n",
       "      <th>P</th>\n",
       "      <th>P</th>\n",
       "      <th>CLS</th>\n",
       "      <th>DET</th>\n",
       "      <th>DET</th>\n",
       "      <th>NPP</th>\n",
       "      <th>CC</th>\n",
       "      <th>P+D</th>\n",
       "      <th>P</th>\n",
       "    </tr>\n",
       "  </thead>\n",
       "  <tbody>\n",
       "    <tr>\n",
       "      <th>ilimp</th>\n",
       "      <td>0</td>\n",
       "      <td>0</td>\n",
       "      <td>0</td>\n",
       "      <td>0</td>\n",
       "      <td>0</td>\n",
       "      <td>0</td>\n",
       "      <td>0</td>\n",
       "      <td>0</td>\n",
       "      <td>0</td>\n",
       "      <td>0</td>\n",
       "    </tr>\n",
       "    <tr>\n",
       "      <th>*Meillet</th>\n",
       "      <td>0</td>\n",
       "      <td>0</td>\n",
       "      <td>0</td>\n",
       "      <td>0</td>\n",
       "      <td>0</td>\n",
       "      <td>0</td>\n",
       "      <td>0</td>\n",
       "      <td>0</td>\n",
       "      <td>0</td>\n",
       "      <td>0</td>\n",
       "    </tr>\n",
       "    <tr>\n",
       "      <th>être</th>\n",
       "      <td>2</td>\n",
       "      <td>0</td>\n",
       "      <td>1</td>\n",
       "      <td>1</td>\n",
       "      <td>0</td>\n",
       "      <td>1</td>\n",
       "      <td>0</td>\n",
       "      <td>0</td>\n",
       "      <td>0</td>\n",
       "      <td>0</td>\n",
       "    </tr>\n",
       "    <tr>\n",
       "      <th>*des</th>\n",
       "      <td>0</td>\n",
       "      <td>0</td>\n",
       "      <td>0</td>\n",
       "      <td>0</td>\n",
       "      <td>0</td>\n",
       "      <td>0</td>\n",
       "      <td>0</td>\n",
       "      <td>0</td>\n",
       "      <td>0</td>\n",
       "      <td>0</td>\n",
       "    </tr>\n",
       "    <tr>\n",
       "      <th>avoir</th>\n",
       "      <td>0</td>\n",
       "      <td>0</td>\n",
       "      <td>0</td>\n",
       "      <td>3</td>\n",
       "      <td>0</td>\n",
       "      <td>0</td>\n",
       "      <td>0</td>\n",
       "      <td>0</td>\n",
       "      <td>0</td>\n",
       "      <td>0</td>\n",
       "    </tr>\n",
       "    <tr>\n",
       "      <th>Parry</th>\n",
       "      <td>0</td>\n",
       "      <td>0</td>\n",
       "      <td>1</td>\n",
       "      <td>0</td>\n",
       "      <td>0</td>\n",
       "      <td>0</td>\n",
       "      <td>0</td>\n",
       "      <td>1</td>\n",
       "      <td>0</td>\n",
       "      <td>0</td>\n",
       "    </tr>\n",
       "    <tr>\n",
       "      <th>linguiste</th>\n",
       "      <td>0</td>\n",
       "      <td>2</td>\n",
       "      <td>0</td>\n",
       "      <td>0</td>\n",
       "      <td>0</td>\n",
       "      <td>0</td>\n",
       "      <td>0</td>\n",
       "      <td>0</td>\n",
       "      <td>0</td>\n",
       "      <td>0</td>\n",
       "    </tr>\n",
       "    <tr>\n",
       "      <th>*du</th>\n",
       "      <td>0</td>\n",
       "      <td>0</td>\n",
       "      <td>0</td>\n",
       "      <td>0</td>\n",
       "      <td>0</td>\n",
       "      <td>0</td>\n",
       "      <td>0</td>\n",
       "      <td>0</td>\n",
       "      <td>0</td>\n",
       "      <td>0</td>\n",
       "    </tr>\n",
       "    <tr>\n",
       "      <th>étude</th>\n",
       "      <td>2</td>\n",
       "      <td>1</td>\n",
       "      <td>0</td>\n",
       "      <td>0</td>\n",
       "      <td>1</td>\n",
       "      <td>0</td>\n",
       "      <td>0</td>\n",
       "      <td>0</td>\n",
       "      <td>0</td>\n",
       "      <td>0</td>\n",
       "    </tr>\n",
       "    <tr>\n",
       "      <th>*au</th>\n",
       "      <td>0</td>\n",
       "      <td>0</td>\n",
       "      <td>0</td>\n",
       "      <td>0</td>\n",
       "      <td>0</td>\n",
       "      <td>0</td>\n",
       "      <td>0</td>\n",
       "      <td>0</td>\n",
       "      <td>0</td>\n",
       "      <td>0</td>\n",
       "    </tr>\n",
       "    <tr>\n",
       "      <th>Antoine</th>\n",
       "      <td>0</td>\n",
       "      <td>0</td>\n",
       "      <td>0</td>\n",
       "      <td>0</td>\n",
       "      <td>0</td>\n",
       "      <td>0</td>\n",
       "      <td>3</td>\n",
       "      <td>0</td>\n",
       "      <td>0</td>\n",
       "      <td>0</td>\n",
       "    </tr>\n",
       "    <tr>\n",
       "      <th>premier</th>\n",
       "      <td>2</td>\n",
       "      <td>0</td>\n",
       "      <td>1</td>\n",
       "      <td>0</td>\n",
       "      <td>0</td>\n",
       "      <td>0</td>\n",
       "      <td>0</td>\n",
       "      <td>0</td>\n",
       "      <td>2</td>\n",
       "      <td>0</td>\n",
       "    </tr>\n",
       "    <tr>\n",
       "      <th>cours</th>\n",
       "      <td>2</td>\n",
       "      <td>2</td>\n",
       "      <td>1</td>\n",
       "      <td>0</td>\n",
       "      <td>1</td>\n",
       "      <td>0</td>\n",
       "      <td>0</td>\n",
       "      <td>0</td>\n",
       "      <td>0</td>\n",
       "      <td>0</td>\n",
       "    </tr>\n",
       "    <tr>\n",
       "      <th>celui</th>\n",
       "      <td>0</td>\n",
       "      <td>1</td>\n",
       "      <td>1</td>\n",
       "      <td>0</td>\n",
       "      <td>0</td>\n",
       "      <td>0</td>\n",
       "      <td>0</td>\n",
       "      <td>0</td>\n",
       "      <td>0</td>\n",
       "      <td>0</td>\n",
       "    </tr>\n",
       "    <tr>\n",
       "      <th>thèse</th>\n",
       "      <td>1</td>\n",
       "      <td>2</td>\n",
       "      <td>0</td>\n",
       "      <td>0</td>\n",
       "      <td>1</td>\n",
       "      <td>0</td>\n",
       "      <td>0</td>\n",
       "      <td>0</td>\n",
       "      <td>0</td>\n",
       "      <td>0</td>\n",
       "    </tr>\n",
       "    <tr>\n",
       "      <th>tradition</th>\n",
       "      <td>1</td>\n",
       "      <td>0</td>\n",
       "      <td>0</td>\n",
       "      <td>0</td>\n",
       "      <td>0</td>\n",
       "      <td>1</td>\n",
       "      <td>0</td>\n",
       "      <td>0</td>\n",
       "      <td>0</td>\n",
       "      <td>0</td>\n",
       "    </tr>\n",
       "    <tr>\n",
       "      <th>Moulins</th>\n",
       "      <td>0</td>\n",
       "      <td>1</td>\n",
       "      <td>1</td>\n",
       "      <td>0</td>\n",
       "      <td>0</td>\n",
       "      <td>0</td>\n",
       "      <td>0</td>\n",
       "      <td>0</td>\n",
       "      <td>0</td>\n",
       "      <td>0</td>\n",
       "    </tr>\n",
       "    <tr>\n",
       "      <th>*Châteaumeillant</th>\n",
       "      <td>0</td>\n",
       "      <td>1</td>\n",
       "      <td>1</td>\n",
       "      <td>0</td>\n",
       "      <td>0</td>\n",
       "      <td>0</td>\n",
       "      <td>0</td>\n",
       "      <td>0</td>\n",
       "      <td>0</td>\n",
       "      <td>0</td>\n",
       "    </tr>\n",
       "    <tr>\n",
       "      <th>Cher</th>\n",
       "      <td>0</td>\n",
       "      <td>0</td>\n",
       "      <td>0</td>\n",
       "      <td>0</td>\n",
       "      <td>0</td>\n",
       "      <td>0</td>\n",
       "      <td>0</td>\n",
       "      <td>0</td>\n",
       "      <td>0</td>\n",
       "      <td>0</td>\n",
       "    </tr>\n",
       "    <tr>\n",
       "      <th>français</th>\n",
       "      <td>0</td>\n",
       "      <td>0</td>\n",
       "      <td>0</td>\n",
       "      <td>0</td>\n",
       "      <td>0</td>\n",
       "      <td>0</td>\n",
       "      <td>0</td>\n",
       "      <td>0</td>\n",
       "      <td>1</td>\n",
       "      <td>0</td>\n",
       "    </tr>\n",
       "  </tbody>\n",
       "</table>\n",
       "</div>"
      ],
      "text/plain": [
       "                  le de  à ilimp son  un *Meillet et *des en\n",
       "                 DET  P  P   CLS DET DET      NPP CC  P+D  P\n",
       "ilimp              0  0  0     0   0   0        0  0    0  0\n",
       "*Meillet           0  0  0     0   0   0        0  0    0  0\n",
       "être               2  0  1     1   0   1        0  0    0  0\n",
       "*des               0  0  0     0   0   0        0  0    0  0\n",
       "avoir              0  0  0     3   0   0        0  0    0  0\n",
       "Parry              0  0  1     0   0   0        0  1    0  0\n",
       "linguiste          0  2  0     0   0   0        0  0    0  0\n",
       "*du                0  0  0     0   0   0        0  0    0  0\n",
       "étude              2  1  0     0   1   0        0  0    0  0\n",
       "*au                0  0  0     0   0   0        0  0    0  0\n",
       "Antoine            0  0  0     0   0   0        3  0    0  0\n",
       "premier            2  0  1     0   0   0        0  0    2  0\n",
       "cours              2  2  1     0   1   0        0  0    0  0\n",
       "celui              0  1  1     0   0   0        0  0    0  0\n",
       "thèse              1  2  0     0   1   0        0  0    0  0\n",
       "tradition          1  0  0     0   0   1        0  0    0  0\n",
       "Moulins            0  1  1     0   0   0        0  0    0  0\n",
       "*Châteaumeillant   0  1  1     0   0   0        0  0    0  0\n",
       "Cher               0  0  0     0   0   0        0  0    0  0\n",
       "français           0  0  0     0   0   0        0  0    1  0"
      ]
     },
     "metadata": {},
     "output_type": "display_data"
    }
   ],
   "source": [
    "cc = mangoes.counting.count_cooccurrence(corpus=annotated_corpus, words=lemma_vocabulary, context=pos_lemma_vocabulary)\n",
    "display(cc.to_df())"
   ]
  },
  {
   "cell_type": "markdown",
   "metadata": {},
   "source": [
    "If your corpus is annotated with dependencies between words, you can also use a new kind of context, baed on dependency between words :"
   ]
  },
  {
   "cell_type": "markdown",
   "metadata": {},
   "source": [
    "## Dependency-based Context"
   ]
  },
  {
   "cell_type": "markdown",
   "metadata": {},
   "source": [
    "*Reference : Levy, O., & Goldberg, Y. (2014, June). Dependency-Based Word Embeddings. In ACL (2) (pp. 302-308).*\n",
    "\n",
    "As an alternative to windows (or bag of words), Dependency-based Context define contexts based on the syntactic \n",
    "relations each word participates in.  \n",
    "\n",
    "To use such a context, your corpus has to be preprocessed to provide dependencies annotations."
   ]
  },
  {
   "cell_type": "markdown",
   "metadata": {},
   "source": [
    "### Example"
   ]
  },
  {
   "cell_type": "markdown",
   "metadata": {},
   "source": [
    "Let's have a look to the contexts of each word of this sentence : \"Australian scientist discovers star with telescope\"."
   ]
  },
  {
   "cell_type": "code",
   "execution_count": 20,
   "metadata": {},
   "outputs": [
    {
     "data": {
      "application/vnd.jupyter.widget-view+json": {
       "model_id": "ec9a242dc49b4883accac2e5b1b15b2b",
       "version_major": 2,
       "version_minor": 0
      },
      "text/plain": [
       "Counting words: 0it [00:00, ?it/s]"
      ]
     },
     "metadata": {},
     "output_type": "display_data"
    }
   ],
   "source": [
    "conllu_string_ud = [\"1\taustralian\taustralian\tADJ\tJJ\t_\t2\tamod\t_\t_\",\n",
    "                    \"2\tscientist\tscientist\tNOUN\tNN\t_\t3\tnsubj\t_\t_\",\n",
    "                    \"3\tdiscovers\tdiscover\tVERB\tVBZ\t_\t0\troot\t_\t_\",\n",
    "                    \"4\tstar\tstar\tNOUN\tNN\t_\t3\tdobj\t_\t_\",\n",
    "                    \"5\twith\twith\tADP\tIN\t_\t6\tcase\t_\t_\",\n",
    "                    \"6\ttelescope\ttelescope\tNOUN\tNN\t_\t3\tnmod\t_\t_\"]\n",
    "\n",
    "corpus = mangoes.Corpus(conllu_string_ud, reader=mangoes.corpus.CONLLU, lower=True)\n",
    "sentence = corpus.reader.sentences().__next__()"
   ]
  },
  {
   "cell_type": "code",
   "execution_count": 21,
   "metadata": {},
   "outputs": [
    {
     "name": "stdout",
     "output_type": "stream",
     "text": [
      "WORD                           CONTEXTS\n",
      "australian                     scientist/amod-\n",
      "scientist                      australian/amod discovers/nsubj-\n",
      "discovers                      scientist/nsubj star/dobj telescope/nmod\n",
      "star                           discovers/dobj-\n",
      "with                           telescope/case-\n",
      "telescope                      with/case discovers/nmod-\n"
     ]
    }
   ],
   "source": [
    "print(\"{:30} {}\".format(\"WORD\", \"CONTEXTS\"))\n",
    "for word, contexts in zip(sentence, mangoes.context.DependencyBasedContext(labels=True)(sentence)):\n",
    "    print(\"{:30} {}\".format(word.form, ' '.join(contexts)))"
   ]
  },
  {
   "cell_type": "markdown",
   "metadata": {},
   "source": [
    "The class DependencyBasedContext provides 2 parameters :\n",
    "- the `labels` parameters defines whether or not you want to get the labels of the dependency_relations"
   ]
  },
  {
   "cell_type": "code",
   "execution_count": 22,
   "metadata": {},
   "outputs": [
    {
     "name": "stdout",
     "output_type": "stream",
     "text": [
      "WORD                           CONTEXTS WITH LABELS                               CONTEXTS WITHOUT LABELS\n",
      "australian                     scientist/amod-                                    scientist\n",
      "scientist                      australian/amod discovers/nsubj-                   australian discovers\n",
      "discovers                      scientist/nsubj star/dobj telescope/nmod           telescope star scientist\n",
      "star                           discovers/dobj-                                    discovers\n",
      "with                           telescope/case-                                    telescope\n",
      "telescope                      with/case discovers/nmod-                          with discovers\n"
     ]
    }
   ],
   "source": [
    "print(\"{:30} {:50} {}\".format(\"WORD\", \"CONTEXTS WITH LABELS\", \"CONTEXTS WITHOUT LABELS\"))\n",
    "for word, contexts_w_labels, contexts_no_labels in zip(sentence, \n",
    "                                                       mangoes.context.DependencyBasedContext(labels=True)(sentence),\n",
    "                                                       mangoes.context.DependencyBasedContext(labels=False)(sentence)):\n",
    "    print(\"{:30} {:50} {}\".format(word.form, ' '.join(contexts_w_labels), ' '.join(contexts_no_labels)))"
   ]
  },
  {
   "cell_type": "markdown",
   "metadata": {},
   "source": [
    "- the `collapse` parameter defines whether or not relations including a preposition should be collapsed : "
   ]
  },
  {
   "cell_type": "code",
   "execution_count": 23,
   "metadata": {},
   "outputs": [
    {
     "name": "stdout",
     "output_type": "stream",
     "text": [
      "WORD                           COLLAPSED                                          NOT COLLAPSED\n",
      "australian                     scientist/amod-                                    scientist/amod-\n",
      "scientist                      australian/amod discovers/nsubj-                   australian/amod discovers/nsubj-\n",
      "discovers                      scientist/nsubj star/dobj telescope/case_with      scientist/nsubj star/dobj telescope/nmod\n",
      "star                           discovers/dobj-                                    discovers/dobj-\n",
      "with                                                                              telescope/case-\n",
      "telescope                      discovers/case_with-                               with/case discovers/nmod-\n"
     ]
    }
   ],
   "source": [
    "print(\"{:30} {:50} {}\".format(\"WORD\", \"COLLAPSED\", \"NOT COLLAPSED\"))\n",
    "for word, contexts_collapsed, contexts_no_collapsed in zip(sentence, \n",
    "                                                           mangoes.context.DependencyBasedContext(collapse=True, labels=True)(sentence),\n",
    "                                                           mangoes.context.DependencyBasedContext(collapse=False, labels=True)(sentence)):\n",
    "    print(\"{:30} {:50} {}\".format(word.form, ' '.join(contexts_collapsed), ' '.join(contexts_no_collapsed)))"
   ]
  },
  {
   "cell_type": "code",
   "execution_count": null,
   "metadata": {},
   "outputs": [],
   "source": []
  }
 ],
 "metadata": {
  "kernelspec": {
   "display_name": "Python [conda env:namre] *",
   "language": "python",
   "name": "conda-env-namre-py"
  },
  "language_info": {
   "codemirror_mode": {
    "name": "ipython",
    "version": 3
   },
   "file_extension": ".py",
   "mimetype": "text/x-python",
   "name": "python",
   "nbconvert_exporter": "python",
   "pygments_lexer": "ipython3",
   "version": "3.8.5"
  }
 },
 "nbformat": 4,
 "nbformat_minor": 1
}
